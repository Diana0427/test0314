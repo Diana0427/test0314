{
 "cells": [
  {
   "cell_type": "code",
   "execution_count": 1,
   "id": "db9bb4eb-9cc6-4e0c-bc12-ea08ad5980a7",
   "metadata": {},
   "outputs": [
    {
     "name": "stderr",
     "output_type": "stream",
     "text": [
      "Using Spark's default log4j profile: org/apache/spark/log4j-defaults.properties\n",
      "Setting default log level to \"WARN\".\n",
      "To adjust logging level use sc.setLogLevel(newLevel). For SparkR, use setLogLevel(newLevel).\n",
      "22/03/14 13:45:38 WARN NativeCodeLoader: Unable to load native-hadoop library for your platform... using builtin-java classes where applicable\n",
      "22/03/14 13:45:41 WARN ExecutorAllocationManager: Dynamic allocation without a shuffle service is an experimental feature.\n"
     ]
    }
   ],
   "source": [
    "from pyspark.sql import SparkSession\n",
    "from operator import add\n",
    "\n",
    "# New API\n",
    "spark_session = SparkSession\\\n",
    "        .builder\\\n",
    "        .master(\"spark://192.168.2.119:7077\") \\\n",
    "        .appName(\"xiaoxia_a3a\")\\\n",
    "        .config(\"spark.dynamicAllocation.enabled\", True)\\\n",
    "        .config(\"spark.dynamicAllocation.shuffleTracking.enabled\",True)\\\n",
    "        .config(\"spark.shuffle.service.enabled\", False)\\\n",
    "        .config(\"spark.dynamicAllocation.executorIdleTimeout\",\"30s\")\\\n",
    "        .config(\"spark.executor.cores\",2)\\\n",
    "        .config(\"spark.driver.port\",9998)\\\n",
    "        .config(\"spark.blockManager.port\",10005)\\\n",
    "        .getOrCreate()\n",
    "\n",
    "# Old API (RDD)\n",
    "spark_context = spark_session.sparkContext\n",
    "\n",
    "spark_context.setLogLevel(\"ERROR\")"
   ]
  },
  {
   "cell_type": "code",
   "execution_count": 2,
   "id": "f7427975-ac25-4e6a-8068-4db7ff1a0012",
   "metadata": {},
   "outputs": [
    {
     "name": "stderr",
     "output_type": "stream",
     "text": [
      "                                                                                \r"
     ]
    },
    {
     "name": "stdout",
     "output_type": "stream",
     "text": [
      "Resumption of the session\n"
     ]
    },
    {
     "name": "stderr",
     "output_type": "stream",
     "text": [
      "[Stage 1:>                                                          (0 + 1) / 1]\r"
     ]
    },
    {
     "name": "stdout",
     "output_type": "stream",
     "text": [
      "Återupptagande av sessionen\n"
     ]
    },
    {
     "name": "stderr",
     "output_type": "stream",
     "text": [
      "                                                                                \r"
     ]
    }
   ],
   "source": [
    "# A1\n",
    "# Load files from HDFS\n",
    "\n",
    "en_1 = spark_context\\\n",
    "       .textFile(\"hdfs://host-192-168-2-119-de1:9000/europarl/europarl-v7.sv-en.en\")\\\n",
    "       .cache()\n",
    "sv_1 = spark_context\\\n",
    "       .textFile(\"hdfs://host-192-168-2-119-de1:9000/europarl/europarl-v7.sv-en.sv\")\\\n",
    "       .cache()\n",
    "\n",
    "print(en_1.first())\n",
    "print(sv_1.first())"
   ]
  },
  {
   "cell_type": "code",
   "execution_count": 3,
   "id": "aec9a101-b0de-492a-b50e-fe7ab4c96fa9",
   "metadata": {},
   "outputs": [
    {
     "name": "stderr",
     "output_type": "stream",
     "text": [
      "                                                                                \r"
     ]
    },
    {
     "name": "stdout",
     "output_type": "stream",
     "text": [
      "The number of lines (en): 1862234\n",
      "2\n"
     ]
    },
    {
     "name": "stderr",
     "output_type": "stream",
     "text": [
      "[Stage 3:=======================================>                   (2 + 1) / 3]\r"
     ]
    },
    {
     "name": "stdout",
     "output_type": "stream",
     "text": [
      "The number of lines (sv): 1862234\n",
      "3\n"
     ]
    },
    {
     "name": "stderr",
     "output_type": "stream",
     "text": [
      "                                                                                \r"
     ]
    }
   ],
   "source": [
    "# A1\n",
    "lines_num_en = en_1.count()\n",
    "print(f'The number of lines (en): {lines_num_en}')\n",
    "print(en_1.getNumPartitions()) \n",
    "\n",
    "lines_num_sv = sv_1.count()\n",
    "print(f'The number of lines (sv): {lines_num_sv}')\n",
    "print(sv_1.getNumPartitions()) "
   ]
  },
  {
   "cell_type": "code",
   "execution_count": 4,
   "id": "b87ccd84-880f-43b2-aab8-7ab60ef4ea8f",
   "metadata": {},
   "outputs": [
    {
     "name": "stderr",
     "output_type": "stream",
     "text": [
      "[Stage 4:>                                                          (0 + 2) / 2]\r"
     ]
    },
    {
     "name": "stdout",
     "output_type": "stream",
     "text": [
      "1862234\n"
     ]
    },
    {
     "name": "stderr",
     "output_type": "stream",
     "text": [
      "                                                                                \r"
     ]
    },
    {
     "data": {
      "text/plain": [
       "[['resumption', 'of', 'the', 'session'],\n",
       " ['i',\n",
       "  'declare',\n",
       "  'resumed',\n",
       "  'the',\n",
       "  'session',\n",
       "  'of',\n",
       "  'the',\n",
       "  'european',\n",
       "  'parliament',\n",
       "  'adjourned',\n",
       "  'on',\n",
       "  'friday',\n",
       "  '17',\n",
       "  'december',\n",
       "  '1999,',\n",
       "  'and',\n",
       "  'i',\n",
       "  'would',\n",
       "  'like',\n",
       "  'once',\n",
       "  'again',\n",
       "  'to',\n",
       "  'wish',\n",
       "  'you',\n",
       "  'a',\n",
       "  'happy',\n",
       "  'new',\n",
       "  'year',\n",
       "  'in',\n",
       "  'the',\n",
       "  'hope',\n",
       "  'that',\n",
       "  'you',\n",
       "  'enjoyed',\n",
       "  'a',\n",
       "  'pleasant',\n",
       "  'festive',\n",
       "  'period.'],\n",
       " ['although,',\n",
       "  'as',\n",
       "  'you',\n",
       "  'will',\n",
       "  'have',\n",
       "  'seen,',\n",
       "  'the',\n",
       "  'dreaded',\n",
       "  \"'millennium\",\n",
       "  \"bug'\",\n",
       "  'failed',\n",
       "  'to',\n",
       "  'materialise,',\n",
       "  'still',\n",
       "  'the',\n",
       "  'people',\n",
       "  'in',\n",
       "  'a',\n",
       "  'number',\n",
       "  'of',\n",
       "  'countries',\n",
       "  'suffered',\n",
       "  'a',\n",
       "  'series',\n",
       "  'of',\n",
       "  'natural',\n",
       "  'disasters',\n",
       "  'that',\n",
       "  'truly',\n",
       "  'were',\n",
       "  'dreadful.'],\n",
       " ['you',\n",
       "  'have',\n",
       "  'requested',\n",
       "  'a',\n",
       "  'debate',\n",
       "  'on',\n",
       "  'this',\n",
       "  'subject',\n",
       "  'in',\n",
       "  'the',\n",
       "  'course',\n",
       "  'of',\n",
       "  'the',\n",
       "  'next',\n",
       "  'few',\n",
       "  'days,',\n",
       "  'during',\n",
       "  'this',\n",
       "  'part-session.'],\n",
       " ['in',\n",
       "  'the',\n",
       "  'meantime,',\n",
       "  'i',\n",
       "  'should',\n",
       "  'like',\n",
       "  'to',\n",
       "  'observe',\n",
       "  'a',\n",
       "  \"minute'\",\n",
       "  's',\n",
       "  'silence,',\n",
       "  'as',\n",
       "  'a',\n",
       "  'number',\n",
       "  'of',\n",
       "  'members',\n",
       "  'have',\n",
       "  'requested,',\n",
       "  'on',\n",
       "  'behalf',\n",
       "  'of',\n",
       "  'all',\n",
       "  'the',\n",
       "  'victims',\n",
       "  'concerned,',\n",
       "  'particularly',\n",
       "  'those',\n",
       "  'of',\n",
       "  'the',\n",
       "  'terrible',\n",
       "  'storms,',\n",
       "  'in',\n",
       "  'the',\n",
       "  'various',\n",
       "  'countries',\n",
       "  'of',\n",
       "  'the',\n",
       "  'european',\n",
       "  'union.'],\n",
       " ['please', 'rise,', 'then,', 'for', 'this', \"minute'\", 's', 'silence.'],\n",
       " ['(the', 'house', 'rose', 'and', 'observed', 'a', \"minute'\", 's', 'silence)'],\n",
       " ['madam', 'president,', 'on', 'a', 'point', 'of', 'order.'],\n",
       " ['you',\n",
       "  'will',\n",
       "  'be',\n",
       "  'aware',\n",
       "  'from',\n",
       "  'the',\n",
       "  'press',\n",
       "  'and',\n",
       "  'television',\n",
       "  'that',\n",
       "  'there',\n",
       "  'have',\n",
       "  'been',\n",
       "  'a',\n",
       "  'number',\n",
       "  'of',\n",
       "  'bomb',\n",
       "  'explosions',\n",
       "  'and',\n",
       "  'killings',\n",
       "  'in',\n",
       "  'sri',\n",
       "  'lanka.'],\n",
       " ['one',\n",
       "  'of',\n",
       "  'the',\n",
       "  'people',\n",
       "  'assassinated',\n",
       "  'very',\n",
       "  'recently',\n",
       "  'in',\n",
       "  'sri',\n",
       "  'lanka',\n",
       "  'was',\n",
       "  'mr',\n",
       "  'kumar',\n",
       "  'ponnambalam,',\n",
       "  'who',\n",
       "  'had',\n",
       "  'visited',\n",
       "  'the',\n",
       "  'european',\n",
       "  'parliament',\n",
       "  'just',\n",
       "  'a',\n",
       "  'few',\n",
       "  'months',\n",
       "  'ago.']]"
      ]
     },
     "execution_count": 4,
     "metadata": {},
     "output_type": "execute_result"
    }
   ],
   "source": [
    "# A2 Lowercase the text, and Tokenize the text (split on space)\n",
    "def func_a2(lines):\n",
    "    lines = lines.lower()\n",
    "    lines = lines.split(' ')\n",
    "    return lines\n",
    "\n",
    "en_2 = en_1.map(func_a2)\n",
    "\n",
    "print(en_2.count())\n",
    "en_2.take(10)"
   ]
  },
  {
   "cell_type": "code",
   "execution_count": 5,
   "id": "a0013eb6-7f87-4d31-ae53-64d3eb277624",
   "metadata": {},
   "outputs": [
    {
     "name": "stderr",
     "output_type": "stream",
     "text": [
      "[Stage 6:=======================================>                   (2 + 1) / 3]\r"
     ]
    },
    {
     "name": "stdout",
     "output_type": "stream",
     "text": [
      "1862234\n"
     ]
    },
    {
     "name": "stderr",
     "output_type": "stream",
     "text": [
      "                                                                                \r"
     ]
    },
    {
     "data": {
      "text/plain": [
       "[['återupptagande', 'av', 'sessionen'],\n",
       " ['jag',\n",
       "  'förklarar',\n",
       "  'europaparlamentets',\n",
       "  'session',\n",
       "  'återupptagen',\n",
       "  'efter',\n",
       "  'avbrottet',\n",
       "  'den',\n",
       "  '17',\n",
       "  'december.',\n",
       "  'jag',\n",
       "  'vill',\n",
       "  'på',\n",
       "  'nytt',\n",
       "  'önska',\n",
       "  'er',\n",
       "  'ett',\n",
       "  'gott',\n",
       "  'nytt',\n",
       "  'år',\n",
       "  'och',\n",
       "  'jag',\n",
       "  'hoppas',\n",
       "  'att',\n",
       "  'ni',\n",
       "  'haft',\n",
       "  'en',\n",
       "  'trevlig',\n",
       "  'semester.'],\n",
       " ['som',\n",
       "  'ni',\n",
       "  'kunnat',\n",
       "  'konstatera',\n",
       "  'ägde',\n",
       "  '\"den',\n",
       "  'stora',\n",
       "  'år',\n",
       "  '2000-buggen\"',\n",
       "  'aldrig',\n",
       "  'rum.',\n",
       "  'däremot',\n",
       "  'har',\n",
       "  'invånarna',\n",
       "  'i',\n",
       "  'ett',\n",
       "  'antal',\n",
       "  'av',\n",
       "  'våra',\n",
       "  'medlemsländer',\n",
       "  'drabbats',\n",
       "  'av',\n",
       "  'naturkatastrofer',\n",
       "  'som',\n",
       "  'verkligen',\n",
       "  'varit',\n",
       "  'förskräckliga.'],\n",
       " ['ni',\n",
       "  'har',\n",
       "  'begärt',\n",
       "  'en',\n",
       "  'debatt',\n",
       "  'i',\n",
       "  'ämnet',\n",
       "  'under',\n",
       "  'sammanträdesperiodens',\n",
       "  'kommande',\n",
       "  'dagar.'],\n",
       " ['till',\n",
       "  'dess',\n",
       "  'vill',\n",
       "  'jag',\n",
       "  'att',\n",
       "  'vi,',\n",
       "  'som',\n",
       "  'ett',\n",
       "  'antal',\n",
       "  'kolleger',\n",
       "  'begärt,',\n",
       "  'håller',\n",
       "  'en',\n",
       "  'tyst',\n",
       "  'minut',\n",
       "  'för',\n",
       "  'offren',\n",
       "  'för',\n",
       "  'bl.a.',\n",
       "  'stormarna',\n",
       "  'i',\n",
       "  'de',\n",
       "  'länder',\n",
       "  'i',\n",
       "  'europeiska',\n",
       "  'unionen',\n",
       "  'som',\n",
       "  'drabbats.'],\n",
       " ['jag', 'ber', 'er', 'resa', 'er', 'för', 'en', 'tyst', 'minut.'],\n",
       " ['(parlamentet', 'höll', 'en', 'tyst', 'minut.)'],\n",
       " ['fru', 'talman!', 'det', 'gäller', 'en', 'ordningsfråga.'],\n",
       " ['ni',\n",
       "  'känner',\n",
       "  'till',\n",
       "  'från',\n",
       "  'media',\n",
       "  'att',\n",
       "  'det',\n",
       "  'skett',\n",
       "  'en',\n",
       "  'rad',\n",
       "  'bombexplosioner',\n",
       "  'och',\n",
       "  'mord',\n",
       "  'i',\n",
       "  'sri',\n",
       "  'lanka.'],\n",
       " ['en',\n",
       "  'av',\n",
       "  'de',\n",
       "  'personer',\n",
       "  'som',\n",
       "  'mycket',\n",
       "  'nyligen',\n",
       "  'mördades',\n",
       "  'i',\n",
       "  'sri',\n",
       "  'lanka',\n",
       "  'var',\n",
       "  'kumar',\n",
       "  'ponnambalam,',\n",
       "  'som',\n",
       "  'besökte',\n",
       "  'europaparlamentet',\n",
       "  'för',\n",
       "  'bara',\n",
       "  'några',\n",
       "  'månader',\n",
       "  'sedan.']]"
      ]
     },
     "execution_count": 5,
     "metadata": {},
     "output_type": "execute_result"
    }
   ],
   "source": [
    "# A2_sv\n",
    "sv_2 = sv_1.map(func_a2)\n",
    "\n",
    "print(sv_2.count())\n",
    "sv_2.take(10)"
   ]
  },
  {
   "cell_type": "code",
   "execution_count": 31,
   "id": "795f9ccc-5680-4f7b-bc1d-d537c79966a3",
   "metadata": {},
   "outputs": [
    {
     "name": "stdout",
     "output_type": "stream",
     "text": [
      "The 10 most frequently according words in the English language corpus: \n",
      "\n"
     ]
    },
    {
     "name": "stderr",
     "output_type": "stream",
     "text": [
      "[Stage 35:=============================>                            (1 + 1) / 2]\r"
     ]
    },
    {
     "name": "stdout",
     "output_type": "stream",
     "text": [
      "[('the', 3498452), ('of', 1659758), ('to', 1539760), ('and', 1288402), ('in', 1085994), ('that', 797519), ('a', 773522), ('is', 758050), ('for', 534242), ('we', 522851)]\n"
     ]
    },
    {
     "name": "stderr",
     "output_type": "stream",
     "text": [
      "                                                                                \r"
     ]
    }
   ],
   "source": [
    "# A3 The 10 most frequently according words in the English language corpus\n",
    "\n",
    "all_words_en = en_1\\\n",
    "            .map(lambda s: s.lower())\\\n",
    "            .flatMap(lambda t: t.split(' '))\\\n",
    "            .flatMap(lambda w: w.split('\\n'))\n",
    "\n",
    "all_words_count_en = all_words_en\\\n",
    "            .map(lambda w: w.strip())\\\n",
    "            .map(lambda w: (w,1))\n",
    "\n",
    "word_counts_en = all_words_count_en.reduceByKey(add)\n",
    "\n",
    "print('The 10 most frequently according words in the English language corpus: \\n')\n",
    "print(word_counts_en.takeOrdered(10, key=lambda x: -x[1]))"
   ]
  },
  {
   "cell_type": "code",
   "execution_count": 32,
   "id": "a6ca7dd6-1a38-4688-a4aa-23b3b670a990",
   "metadata": {},
   "outputs": [
    {
     "name": "stdout",
     "output_type": "stream",
     "text": [
      "The 10 most frequently according words in the Swedish language corpus: \n",
      "\n"
     ]
    },
    {
     "name": "stderr",
     "output_type": "stream",
     "text": [
      "[Stage 37:======================================>                   (2 + 1) / 3]\r"
     ]
    },
    {
     "name": "stdout",
     "output_type": "stream",
     "text": [
      "[('att', 1706293), ('och', 1344830), ('i', 1050774), ('det', 924868), ('som', 913276), ('för', 908680), ('av', 738068), ('är', 694381), ('en', 620310), ('vi', 539797)]\n"
     ]
    },
    {
     "name": "stderr",
     "output_type": "stream",
     "text": [
      "                                                                                \r"
     ]
    }
   ],
   "source": [
    "# A3 The 10 most frequently according words in the Swedish language corpus\n",
    "\n",
    "all_words_sv = sv_1\\\n",
    "            .map(lambda s: s.lower())\\\n",
    "            .flatMap(lambda t: t.split(' '))\\\n",
    "            .flatMap(lambda w: w.split('\\n'))\n",
    "\n",
    "all_words_count_sv = all_words_sv\\\n",
    "            .map(lambda w: w.strip())\\\n",
    "            .map(lambda w: (w,1))\n",
    "\n",
    "word_counts_sv = all_words_count_sv.reduceByKey(add)\n",
    "\n",
    "print('The 10 most frequently according words in the Swedish language corpus: \\n')\n",
    "print(word_counts_sv.takeOrdered(10, key=lambda x: -x[1]))"
   ]
  },
  {
   "cell_type": "code",
   "execution_count": 38,
   "id": "c470ada2-33ae-4cf0-b610-70f5dfc37b3b",
   "metadata": {},
   "outputs": [
    {
     "name": "stderr",
     "output_type": "stream",
     "text": [
      "                                                                                \r"
     ]
    },
    {
     "name": "stdout",
     "output_type": "stream",
     "text": [
      "[('Resumption of the session', 0), ('I declare resumed the session of the European Parliament adjourned on Friday 17 December 1999, and I would like once again to wish you a happy new year in the hope that you enjoyed a pleasant festive period.', 1), (\"Although, as you will have seen, the dreaded 'millennium bug' failed to materialise, still the people in a number of countries suffered a series of natural disasters that truly were dreadful.\", 2), ('You have requested a debate on this subject in the course of the next few days, during this part-session.', 3), (\"In the meantime, I should like to observe a minute' s silence, as a number of Members have requested, on behalf of all the victims concerned, particularly those of the terrible storms, in the various countries of the European Union.\", 4)]\n"
     ]
    },
    {
     "name": "stderr",
     "output_type": "stream",
     "text": [
      "[Stage 57:======================================>                   (2 + 1) / 3]\r"
     ]
    },
    {
     "name": "stdout",
     "output_type": "stream",
     "text": [
      "[('Återupptagande av sessionen', 0), ('Jag förklarar Europaparlamentets session återupptagen efter avbrottet den 17 december. Jag vill på nytt önska er ett gott nytt år och jag hoppas att ni haft en trevlig semester.', 1), ('Som ni kunnat konstatera ägde \"den stora år 2000-buggen\" aldrig rum. Däremot har invånarna i ett antal av våra medlemsländer drabbats av naturkatastrofer som verkligen varit förskräckliga.', 2), ('Ni har begärt en debatt i ämnet under sammanträdesperiodens kommande dagar.', 3), ('Till dess vill jag att vi, som ett antal kolleger begärt, håller en tyst minut för offren för bl.a. stormarna i de länder i Europeiska unionen som drabbats.', 4)]\n"
     ]
    },
    {
     "name": "stderr",
     "output_type": "stream",
     "text": [
      "                                                                                \r"
     ]
    }
   ],
   "source": [
    "# A4\n",
    "# Key the lines by their line number\n",
    "\n",
    "en_index = en_1.zipWithIndex()\n",
    "print(en_index.take(5))\n",
    "\n",
    "sv_index = sv_1.zipWithIndex()\n",
    "print(sv_index.take(5))"
   ]
  },
  {
   "cell_type": "code",
   "execution_count": 39,
   "id": "ccb2660a-6d10-40e3-92e2-36b8b033363a",
   "metadata": {},
   "outputs": [
    {
     "name": "stdout",
     "output_type": "stream",
     "text": [
      "[(0, 'Resumption of the session'), (1, 'I declare resumed the session of the European Parliament adjourned on Friday 17 December 1999, and I would like once again to wish you a happy new year in the hope that you enjoyed a pleasant festive period.'), (2, \"Although, as you will have seen, the dreaded 'millennium bug' failed to materialise, still the people in a number of countries suffered a series of natural disasters that truly were dreadful.\"), (3, 'You have requested a debate on this subject in the course of the next few days, during this part-session.'), (4, \"In the meantime, I should like to observe a minute' s silence, as a number of Members have requested, on behalf of all the victims concerned, particularly those of the terrible storms, in the various countries of the European Union.\")]\n",
      "\n",
      "[(0, 'Återupptagande av sessionen'), (1, 'Jag förklarar Europaparlamentets session återupptagen efter avbrottet den 17 december. Jag vill på nytt önska er ett gott nytt år och jag hoppas att ni haft en trevlig semester.'), (2, 'Som ni kunnat konstatera ägde \"den stora år 2000-buggen\" aldrig rum. Däremot har invånarna i ett antal av våra medlemsländer drabbats av naturkatastrofer som verkligen varit förskräckliga.'), (3, 'Ni har begärt en debatt i ämnet under sammanträdesperiodens kommande dagar.'), (4, 'Till dess vill jag att vi, som ett antal kolleger begärt, håller en tyst minut för offren för bl.a. stormarna i de länder i Europeiska unionen som drabbats.')]\n"
     ]
    }
   ],
   "source": [
    "# Swap the key and value\n",
    "en_swap = en_index.map(lambda x: (x[1], x[0]))\n",
    "print(en_swap.take(5))\n",
    "\n",
    "print(\"\")\n",
    "\n",
    "sv_swap = sv_index.map(lambda x: (x[1], x[0]))\n",
    "print(sv_swap.take(5))"
   ]
  },
  {
   "cell_type": "code",
   "execution_count": 42,
   "id": "8f5997a0-a902-4909-9500-c74042c66b7d",
   "metadata": {},
   "outputs": [
    {
     "name": "stderr",
     "output_type": "stream",
     "text": [
      "                                                                                \r"
     ]
    },
    {
     "name": "stdout",
     "output_type": "stream",
     "text": [
      "[(0, ('Resumption of the session', 'Återupptagande av sessionen')), (1, ('I declare resumed the session of the European Parliament adjourned on Friday 17 December 1999, and I would like once again to wish you a happy new year in the hope that you enjoyed a pleasant festive period.', 'Jag förklarar Europaparlamentets session återupptagen efter avbrottet den 17 december. Jag vill på nytt önska er ett gott nytt år och jag hoppas att ni haft en trevlig semester.')), (2, (\"Although, as you will have seen, the dreaded 'millennium bug' failed to materialise, still the people in a number of countries suffered a series of natural disasters that truly were dreadful.\", 'Som ni kunnat konstatera ägde \"den stora år 2000-buggen\" aldrig rum. Däremot har invånarna i ett antal av våra medlemsländer drabbats av naturkatastrofer som verkligen varit förskräckliga.')), (3, ('You have requested a debate on this subject in the course of the next few days, during this part-session.', 'Ni har begärt en debatt i ämnet under sammanträdesperiodens kommande dagar.')), (4, (\"In the meantime, I should like to observe a minute' s silence, as a number of Members have requested, on behalf of all the victims concerned, particularly those of the terrible storms, in the various countries of the European Union.\", 'Till dess vill jag att vi, som ett antal kolleger begärt, håller en tyst minut för offren för bl.a. stormarna i de länder i Europeiska unionen som drabbats.'))]\n"
     ]
    },
    {
     "name": "stderr",
     "output_type": "stream",
     "text": [
      "[Stage 82:==================================>                       (3 + 2) / 5]\r"
     ]
    },
    {
     "name": "stdout",
     "output_type": "stream",
     "text": [
      "1862234\n"
     ]
    },
    {
     "name": "stderr",
     "output_type": "stream",
     "text": [
      "                                                                                \r"
     ]
    }
   ],
   "source": [
    "# Join the two RDDs together\n",
    "en_sv = en_swap.join(sv_swap).sortBy(lambda x: x[0])\n",
    "print(en_sv.take(5))\n",
    "print(en_sv.count())"
   ]
  },
  {
   "cell_type": "code",
   "execution_count": 65,
   "id": "c8133b99-2969-4cb3-967f-5cecc80b9513",
   "metadata": {},
   "outputs": [
    {
     "name": "stderr",
     "output_type": "stream",
     "text": [
      "                                                                                \r"
     ]
    },
    {
     "name": "stdout",
     "output_type": "stream",
     "text": [
      "[('Agenda', 'Arbetsplan'), ('That did not happen.', 'Så blev inte fallet.'), ('This is an important matter.', 'Detta är en viktig fråga.')]\n"
     ]
    },
    {
     "name": "stderr",
     "output_type": "stream",
     "text": [
      "[Stage 178:==================================>                      (3 + 2) / 5]\r"
     ]
    },
    {
     "name": "stdout",
     "output_type": "stream",
     "text": [
      "38016\n"
     ]
    },
    {
     "name": "stderr",
     "output_type": "stream",
     "text": [
      "                                                                                \r"
     ]
    }
   ],
   "source": [
    "# Filter, select the sentences that have less than six words\n",
    "def func_a4(lines):\n",
    "    lines = lines.lower()\n",
    "    lines = lines.split(' ')\n",
    "    num = len(lines)\n",
    "    return num\n",
    "\n",
    "en_sv_filter = en_sv\\\n",
    "    .map(lambda x: x[1])\\\n",
    "    .filter(lambda y: (func_a4(y[0]) < 6) and (func_a4(y[0]) > 0))\\\n",
    "    .filter(lambda z: (func_a4(z[1]) < 6) and (func_a4(z[1]) > 0))\\\n",
    "    .filter(lambda w: (func_a4(w[0]) == func_a4(w[1])))\n",
    "\n",
    "print(en_sv_filter.take(3))\n",
    "print(en_sv_filter.count())"
   ]
  },
  {
   "cell_type": "code",
   "execution_count": 77,
   "id": "a59ce81c-9e52-4076-bade-a83842baa8f6",
   "metadata": {},
   "outputs": [
    {
     "name": "stderr",
     "output_type": "stream",
     "text": [
      "                                                                                \r"
     ]
    },
    {
     "name": "stdout",
     "output_type": "stream",
     "text": [
      "['agenda', 'that', 'did', 'not', 'happen.', 'this', 'is', 'an', 'important', 'matter.']\n"
     ]
    },
    {
     "name": "stderr",
     "output_type": "stream",
     "text": [
      "[Stage 214:>                                                        (0 + 1) / 1]\r"
     ]
    },
    {
     "name": "stdout",
     "output_type": "stream",
     "text": [
      "['arbetsplan', 'så', 'blev', 'inte', 'fallet.', 'detta', 'är', 'en', 'viktig', 'fråga.']\n"
     ]
    },
    {
     "name": "stderr",
     "output_type": "stream",
     "text": [
      "                                                                                \r"
     ]
    }
   ],
   "source": [
    "en_sv_filter_en = en_sv_filter.flatMap(lambda x: func_a2(x[0]))\n",
    "en_sv_filter_sv = en_sv_filter.flatMap(lambda y: func_a2(y[1]))\n",
    "\n",
    "print(en_sv_filter_en.take(10))\n",
    "print(en_sv_filter_sv.take(10))"
   ]
  },
  {
   "cell_type": "code",
   "execution_count": 78,
   "id": "0b24d097-3251-4145-9ffa-065951547519",
   "metadata": {},
   "outputs": [
    {
     "name": "stderr",
     "output_type": "stream",
     "text": [
      "[Stage 217:>                                                        (0 + 1) / 1]\r"
     ]
    },
    {
     "name": "stdout",
     "output_type": "stream",
     "text": [
      "[('agenda', 'arbetsplan'), ('that', 'så'), ('did', 'blev'), ('not', 'inte'), ('happen.', 'fallet.'), ('this', 'detta'), ('is', 'är'), ('an', 'en'), ('important', 'viktig'), ('matter.', 'fråga.')]\n"
     ]
    },
    {
     "name": "stderr",
     "output_type": "stream",
     "text": [
      "                                                                                \r"
     ]
    }
   ],
   "source": [
    "en_sv_zip = en_sv_filter_en.zip(en_sv_filter_sv)\n",
    "print(en_sv_zip.take(10))"
   ]
  },
  {
   "cell_type": "code",
   "execution_count": 80,
   "id": "6c086cae-8f2d-4865-8f59-9ad448035155",
   "metadata": {},
   "outputs": [
    {
     "name": "stdout",
     "output_type": "stream",
     "text": [
      "The 10 most frequently occurring pairs of words: \n",
      "\n"
     ]
    },
    {
     "name": "stderr",
     "output_type": "stream",
     "text": [
      "[Stage 227:==================================>                      (3 + 2) / 5]\r"
     ]
    },
    {
     "name": "stdout",
     "output_type": "stream",
     "text": [
      "[(('is', 'är'), 4699), (('closed.', 'avslutad.'), 2951), (('(applause)', '(applåder)'), 2546), (('', '.'), 2223), (('.', '.'), 2084), (('that', 'det'), 1494), (('we', 'vi'), 1443), (('the', 'jag'), 1336), (('is', 'debatten'), 1327), (('debate', 'förklarar'), 1319)]\n"
     ]
    },
    {
     "name": "stderr",
     "output_type": "stream",
     "text": [
      "                                                                                \r"
     ]
    }
   ],
   "source": [
    "en_sv_pairs = en_sv_zip.map(lambda w: (w,1))\n",
    "en_sv_pairs_counts = en_sv_pairs.reduceByKey(add)\n",
    "\n",
    "# The 10 most frequently occurring pairs of words\n",
    "print('The 10 most frequently occurring pairs of words: \\n')\n",
    "print(en_sv_pairs_counts.takeOrdered(10, key=lambda x: -x[1]))"
   ]
  },
  {
   "cell_type": "code",
   "execution_count": 81,
   "id": "532e163f-fdce-4797-90b2-323c09ab50c6",
   "metadata": {},
   "outputs": [],
   "source": [
    "# release the cores for another application!\n",
    "spark_context.stop()"
   ]
  },
  {
   "cell_type": "code",
   "execution_count": null,
   "id": "c30c7f99-9d29-4079-9631-9fbfe2b9547d",
   "metadata": {},
   "outputs": [],
   "source": []
  }
 ],
 "metadata": {
  "kernelspec": {
   "display_name": "Python 3 (ipykernel)",
   "language": "python",
   "name": "python3"
  },
  "language_info": {
   "codemirror_mode": {
    "name": "ipython",
    "version": 3
   },
   "file_extension": ".py",
   "mimetype": "text/x-python",
   "name": "python",
   "nbconvert_exporter": "python",
   "pygments_lexer": "ipython3",
   "version": "3.8.10"
  }
 },
 "nbformat": 4,
 "nbformat_minor": 5
}
