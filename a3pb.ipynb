{
 "cells": [
  {
   "cell_type": "code",
   "execution_count": 1,
   "id": "e44a3ba9-5549-4782-849b-37d5460471fa",
   "metadata": {},
   "outputs": [
    {
     "name": "stderr",
     "output_type": "stream",
     "text": [
      "Using Spark's default log4j profile: org/apache/spark/log4j-defaults.properties\n",
      "Setting default log level to \"WARN\".\n",
      "To adjust logging level use sc.setLogLevel(newLevel). For SparkR, use setLogLevel(newLevel).\n",
      "22/03/14 07:04:20 WARN NativeCodeLoader: Unable to load native-hadoop library for your platform... using builtin-java classes where applicable\n",
      "22/03/14 07:04:25 WARN ExecutorAllocationManager: Dynamic allocation without a shuffle service is an experimental feature.\n"
     ]
    }
   ],
   "source": [
    "from pyspark.sql import SparkSession\n",
    "from operator import add\n",
    "\n",
    "# New API\n",
    "spark_session = SparkSession\\\n",
    "        .builder\\\n",
    "        .master(\"spark://192.168.2.119:7077\") \\\n",
    "        .appName(\"xiaoxia_a3b\")\\\n",
    "        .config(\"spark.dynamicAllocation.enabled\", True)\\\n",
    "        .config(\"spark.dynamicAllocation.shuffleTracking.enabled\",True)\\\n",
    "        .config(\"spark.shuffle.service.enabled\", False)\\\n",
    "        .config(\"spark.dynamicAllocation.executorIdleTimeout\",\"30s\")\\\n",
    "        .config(\"spark.executor.cores\",2)\\\n",
    "        .config(\"spark.driver.port\",9998)\\\n",
    "        .config(\"spark.blockManager.port\",10005)\\\n",
    "        .getOrCreate()\n",
    "\n",
    "# Old API (RDD)\n",
    "spark_context = spark_session.sparkContext\n",
    "\n",
    "spark_context.setLogLevel(\"ERROR\")"
   ]
  },
  {
   "cell_type": "code",
   "execution_count": 2,
   "id": "d502ed9e-7fdb-478b-86fa-d53956e55766",
   "metadata": {},
   "outputs": [
    {
     "name": "stderr",
     "output_type": "stream",
     "text": [
      "                                                                                \r"
     ]
    },
    {
     "name": "stdout",
     "output_type": "stream",
     "text": [
      "+-------------+--------------------+----------+--------+-----------+--------------+-----------------+----+----+----------+-----+--------------------+-----+------+--------------+---------------------+-----------+---------+---------+------------------+-----------------+----------------------+\n",
      "|Ticket number|          Issue Date|Issue time|Meter Id|Marked Time|RP State Plate|Plate Expiry Date| VIN|Make|Body Style|Color|            Location|Route|Agency|Violation code|Violation Description|Fine amount| Latitude|Longitude|Agency Description|Color Description|Body Style Description|\n",
      "+-------------+--------------------+----------+--------+-----------+--------------+-----------------+----+----+----------+-----+--------------------+-----+------+--------------+---------------------+-----------+---------+---------+------------------+-----------------+----------------------+\n",
      "|   1103341116|2015-12-21T00:00:...|      1251|    null|       null|            CA|           200304|null|HOND|        PA|   GY|     13147 WELBY WAY|01521|     1|        4000A1|   NO EVIDENCE OF REG|         50|    99999|    99999|              null|             null|                  null|\n",
      "|   1103700150|2015-12-21T00:00:...|      1435|    null|       null|            CA|           201512|null| GMC|        VN|   WH|       525 S MAIN ST| 1C51|     1|        4000A1|   NO EVIDENCE OF REG|         50|    99999|    99999|              null|             null|                  null|\n",
      "|   1104803000|2015-12-21T00:00:...|      2055|    null|       null|            CA|           201503|null|NISS|        PA|   BK|       200 WORLD WAY|  2R2|     2|          8939|           WHITE CURB|         58|6439997.9|1802686.4|              null|             null|                  null|\n",
      "|   1104820732|2015-12-26T00:00:...|      1515|    null|       null|            CA|             null|null|ACUR|        PA|   WH|       100 WORLD WAY| 2F11|     2|           000|               17104h|       null|6440041.1|1802686.2|              null|             null|                  null|\n",
      "|   1105461453|2015-09-15T00:00:...|       115|    null|       null|            CA|           200316|null|CHEV|        PA|   BK|  GEORGIA ST/OLYMPIC|1FB70|     1|         8069A| NO STOPPING/STANDING|         93|    99999|    99999|              null|             null|                  null|\n",
      "|   1106226590|2015-09-15T00:00:...|        19|    null|       null|            CA|           201507|null|CHEV|        VN|   GY|  SAN PEDRO S/O BOYD|1A35W|     1|        4000A1|   NO EVIDENCE OF REG|         50|    99999|    99999|              null|             null|                  null|\n",
      "|   1106500452|2015-12-17T00:00:...|      1710|    null|       null|            CA|           201605|null|MAZD|        PA|   BL|     SUNSET/ALVARADO|00217|     1|          8070| PARK IN GRID LOCK ZN|        163|    99999|    99999|              null|             null|                  null|\n",
      "|   1106500463|2015-12-17T00:00:...|      1710|    null|       null|            CA|           201602|null|TOYO|        PA|   BK|     SUNSET/ALVARADO|00217|     1|          8070| PARK IN GRID LOCK ZN|        163|    99999|    99999|              null|             null|                  null|\n",
      "|   1106506402|2015-12-22T00:00:...|       945|    null|       null|            CA|           201605|null|CHEV|        PA|   BR|      721 S WESTLAKE| 2A75|     1|        8069AA|     NO STOP/STAND AM|         93|    99999|    99999|              null|             null|                  null|\n",
      "|   1106506413|2015-12-22T00:00:...|      1100|    null|       null|            CA|           201701|null|NISS|        PA|   SI|     1159 HUNTLEY DR| 2A75|     1|        8069AA|     NO STOP/STAND AM|         93|    99999|    99999|              null|             null|                  null|\n",
      "|   1106506424|2015-12-22T00:00:...|      1100|    null|       null|            CA|           201511|null|FORD|        TR|   WH|     1159 HUNTLEY DR| 2A75|     1|        8069AA|     NO STOP/STAND AM|         93|    99999|    99999|              null|             null|                  null|\n",
      "|   1106506435|2015-12-22T00:00:...|      1105|    null|       null|            CA|           201701|null|CHRY|        PA|   GO|     1159 HUNTLEY DR| 2A75|     1|        8069AA|     NO STOP/STAND AM|         93|    99999|    99999|              null|             null|                  null|\n",
      "|   1106506446|2015-12-22T00:00:...|      1110|    null|       null|            CA|           201511|null| BMW|        PA|   BK|      1200 W MIRAMAR| 2A75|     1|        4000A1|   NO EVIDENCE OF REG|         50|    99999|    99999|              null|             null|                  null|\n",
      "|   1106549754|2015-12-15T00:00:...|       825|    null|       null|            CA|           201607|null|PTRB|        TR|   BK|           4TH/STATE| CM96|     1|         8069A| NO STOPPING/STANDING|         93|    99999|    99999|              null|             null|                  null|\n",
      "|   1107179581|2015-12-27T00:00:...|      1055|    null|       null|            CA|           201605|null|TOYO|        PA|   BK|3100 N HOLLYRIDGE DR| null|    54|         8058L|         PREF PARKING|         68|    99999|    99999|              null|             null|                  null|\n",
      "|   1107179592|2015-12-27T00:00:...|      1200|    null|       null|            CA|           201602|null|MBNZ|        PA|   BK|   3115 N BERENDO DR| null|    54|         8058L|         PREF PARKING|         68|    99999|    99999|              null|             null|                  null|\n",
      "|   1107179603|2015-12-27T00:00:...|      1400|    null|       null|            CA|           201611|null|NISS|        PA|   WH| 3100 N BEACHWOOD DR| null|    54|         8058L|         PREF PARKING|         68|    99999|    99999|              null|             null|                  null|\n",
      "|   1107539823|2015-09-16T00:00:...|      2120|    null|       null|            CA|           201502|null|NISS|        PA| null|      BLAINE/11TH PL|1FB95|     1|        4000A1|   NO EVIDENCE OF REG|         50|    99999|    99999|              null|             null|                  null|\n",
      "|   1107539834|2015-09-16T00:00:...|      1045|    null|       null|            CA|             null|null|CHEV|        PA|   BK|  1246 S FIGUEROA ST| 1L20|     1|        8069AP|     NO STOP/STAND PM|         93|    99999|    99999|              null|             null|                  null|\n",
      "|   1107780811|2015-12-22T00:00:...|      1102|    null|       null|            CA|           201606|null|HOND|        PA|   BK|       PLATA/RAMPART|  2A1|     1|         8069B|           NO PARKING|         73|    99999|    99999|              null|             null|                  null|\n",
      "+-------------+--------------------+----------+--------+-----------+--------------+-----------------+----+----+----------+-----+--------------------+-----+------+--------------+---------------------+-----------+---------+---------+------------------+-----------------+----------------------+\n",
      "only showing top 20 rows\n",
      "\n"
     ]
    }
   ],
   "source": [
    "# B1\n",
    "data_frame = spark_session.read\\\n",
    "    .option(\"header\", \"true\")\\\n",
    "    .csv('hdfs://host-192-168-2-119-de1:9000/parking-citations.csv')\\\n",
    "    .cache()\n",
    "\n",
    "data_frame.show()"
   ]
  },
  {
   "cell_type": "code",
   "execution_count": 3,
   "id": "34a399d5-0081-4c2f-9530-f599f88c6aa1",
   "metadata": {},
   "outputs": [
    {
     "name": "stdout",
     "output_type": "stream",
     "text": [
      "http://host-192-168-2-242-de1:4040\n"
     ]
    }
   ],
   "source": [
    "print(spark_context.uiWebUrl)"
   ]
  },
  {
   "cell_type": "code",
   "execution_count": 4,
   "id": "90f7d1c6-f82d-4f8c-83b4-01e41e96f026",
   "metadata": {},
   "outputs": [
    {
     "name": "stdout",
     "output_type": "stream",
     "text": [
      "root\n",
      " |-- Ticket number: string (nullable = true)\n",
      " |-- Issue Date: string (nullable = true)\n",
      " |-- Issue time: string (nullable = true)\n",
      " |-- Meter Id: string (nullable = true)\n",
      " |-- Marked Time: string (nullable = true)\n",
      " |-- RP State Plate: string (nullable = true)\n",
      " |-- Plate Expiry Date: string (nullable = true)\n",
      " |-- VIN: string (nullable = true)\n",
      " |-- Make: string (nullable = true)\n",
      " |-- Body Style: string (nullable = true)\n",
      " |-- Color: string (nullable = true)\n",
      " |-- Location: string (nullable = true)\n",
      " |-- Route: string (nullable = true)\n",
      " |-- Agency: string (nullable = true)\n",
      " |-- Violation code: string (nullable = true)\n",
      " |-- Violation Description: string (nullable = true)\n",
      " |-- Fine amount: string (nullable = true)\n",
      " |-- Latitude: string (nullable = true)\n",
      " |-- Longitude: string (nullable = true)\n",
      " |-- Agency Description: string (nullable = true)\n",
      " |-- Color Description: string (nullable = true)\n",
      " |-- Body Style Description: string (nullable = true)\n",
      "\n"
     ]
    }
   ],
   "source": [
    "# B2\n",
    "data_frame.printSchema()"
   ]
  },
  {
   "cell_type": "code",
   "execution_count": 5,
   "id": "40f7936d-3fa5-489b-b335-b6bac2e73d66",
   "metadata": {},
   "outputs": [
    {
     "name": "stderr",
     "output_type": "stream",
     "text": [
      "[Stage 2:=====================================================>   (15 + 1) / 16]\r"
     ]
    },
    {
     "name": "stdout",
     "output_type": "stream",
     "text": [
      "13077724\n"
     ]
    },
    {
     "name": "stderr",
     "output_type": "stream",
     "text": [
      "                                                                                \r"
     ]
    }
   ],
   "source": [
    "# B3\n",
    "row_num = data_frame.count()\n",
    "print(row_num)"
   ]
  },
  {
   "cell_type": "code",
   "execution_count": 6,
   "id": "0e4f7a63-d737-4c69-8c96-38ebdd55aa79",
   "metadata": {},
   "outputs": [
    {
     "data": {
      "text/plain": [
       "16"
      ]
     },
     "execution_count": 6,
     "metadata": {},
     "output_type": "execute_result"
    }
   ],
   "source": [
    "# B4\n",
    "data_frame.rdd.getNumPartitions()"
   ]
  },
  {
   "cell_type": "code",
   "execution_count": 7,
   "id": "e81c4a06-f6c8-4704-aa8c-3629ad659ff8",
   "metadata": {},
   "outputs": [
    {
     "name": "stdout",
     "output_type": "stream",
     "text": [
      "root\n",
      " |-- Ticket number: string (nullable = true)\n",
      " |-- Issue Date: string (nullable = true)\n",
      " |-- Issue time: string (nullable = true)\n",
      " |-- Meter Id: string (nullable = true)\n",
      " |-- Marked Time: string (nullable = true)\n",
      " |-- RP State Plate: string (nullable = true)\n",
      " |-- Plate Expiry Date: string (nullable = true)\n",
      " |-- Make: string (nullable = true)\n",
      " |-- Body Style: string (nullable = true)\n",
      " |-- Color: string (nullable = true)\n",
      " |-- Location: string (nullable = true)\n",
      " |-- Route: string (nullable = true)\n",
      " |-- Agency: string (nullable = true)\n",
      " |-- Violation code: string (nullable = true)\n",
      " |-- Violation Description: string (nullable = true)\n",
      " |-- Fine amount: string (nullable = true)\n",
      " |-- Agency Description: string (nullable = true)\n",
      " |-- Color Description: string (nullable = true)\n",
      " |-- Body Style Description: string (nullable = true)\n",
      "\n"
     ]
    }
   ],
   "source": [
    "# B5 Drop the columns VIN, Latitude and Longitude\n",
    "\n",
    "columns_to_drop = [\"VIN\", \"Latitude\", \"Longitude\"]\n",
    "data_frame_2 = data_frame.drop(*columns_to_drop)\n",
    "data_frame_2.printSchema()"
   ]
  },
  {
   "cell_type": "code",
   "execution_count": 8,
   "id": "8b40171f-1fda-418c-ac3c-ae7d075fe904",
   "metadata": {},
   "outputs": [],
   "source": [
    "# B6\n",
    "import pyspark\n",
    "from pyspark.sql.functions import udf\n",
    "from pyspark.sql.types import FloatType"
   ]
  },
  {
   "cell_type": "code",
   "execution_count": 10,
   "id": "0681b649-5f6b-4e0e-b883-f281810056e9",
   "metadata": {},
   "outputs": [
    {
     "name": "stderr",
     "output_type": "stream",
     "text": [
      "[Stage 5:=====================================================>   (15 + 1) / 16]\r"
     ]
    },
    {
     "name": "stdout",
     "output_type": "stream",
     "text": [
      "+-----------+------------------+\n",
      "|Fine amount|count(Fine amount)|\n",
      "+-----------+------------------+\n",
      "|     1100.0|               626|\n",
      "|     1000.0|              1672|\n",
      "|      505.0|                 6|\n",
      "+-----------+------------------+\n",
      "only showing top 3 rows\n",
      "\n"
     ]
    },
    {
     "name": "stderr",
     "output_type": "stream",
     "text": [
      "                                                                                \r"
     ]
    }
   ],
   "source": [
    "# B6\n",
    "max_fine_df = data_frame_2\\\n",
    "              .withColumn(\"Fine amount\", data_frame_2[\"Fine amount\"].cast(FloatType()))\\\n",
    "              .groupBy(\"Fine amount\")\\\n",
    "              .agg({\"Fine amount\": 'count'})\\\n",
    "              .orderBy(\"Fine amount\", ascending=False)\n",
    "\n",
    "max_fine_df.show(3)"
   ]
  },
  {
   "cell_type": "code",
   "execution_count": 11,
   "id": "049f5eac-f107-4ce0-b26d-a8fe4be720b3",
   "metadata": {},
   "outputs": [
    {
     "name": "stdout",
     "output_type": "stream",
     "text": [
      "root\n",
      " |-- Fine amount: float (nullable = true)\n",
      " |-- count(Fine amount): long (nullable = false)\n",
      "\n"
     ]
    }
   ],
   "source": [
    "# B6\n",
    "max_fine_df.printSchema()"
   ]
  },
  {
   "cell_type": "code",
   "execution_count": 13,
   "id": "a3db5e6b-da48-4a24-9af4-b697ba51178e",
   "metadata": {},
   "outputs": [
    {
     "name": "stderr",
     "output_type": "stream",
     "text": [
      "[Stage 11:====================================================>   (15 + 1) / 16]\r"
     ]
    },
    {
     "name": "stdout",
     "output_type": "stream",
     "text": [
      "+----+-----------+\n",
      "|Make|count(Make)|\n",
      "+----+-----------+\n",
      "|TOYT|    2150768|\n",
      "|HOND|    1479996|\n",
      "|FORD|    1116235|\n",
      "|NISS|     945133|\n",
      "|CHEV|     892676|\n",
      "| BMW|     603092|\n",
      "|MERZ|     543298|\n",
      "|VOLK|     432030|\n",
      "|HYUN|     404917|\n",
      "|DODG|     391686|\n",
      "|LEXS|     368420|\n",
      "| KIA|     328155|\n",
      "|JEEP|     316300|\n",
      "|AUDI|     255395|\n",
      "|MAZD|     242344|\n",
      "|OTHR|     205546|\n",
      "| GMC|     184889|\n",
      "|INFI|     174315|\n",
      "|CHRY|     159948|\n",
      "|SUBA|     154640|\n",
      "+----+-----------+\n",
      "only showing top 20 rows\n",
      "\n"
     ]
    },
    {
     "name": "stderr",
     "output_type": "stream",
     "text": [
      "                                                                                \r"
     ]
    }
   ],
   "source": [
    "# B7 Show the top 20 most frequent vehicle makes, and their frequencies\n",
    "make_df = data_frame_2\\\n",
    "        .groupBy(\"Make\")\\\n",
    "        .agg({\"Make\": 'count'})\\\n",
    "        .orderBy(\"count(Make)\", ascending=False)\n",
    "\n",
    "make_df.show()"
   ]
  },
  {
   "cell_type": "code",
   "execution_count": 14,
   "id": "25920b58-54dc-4700-9c82-1420967e207f",
   "metadata": {},
   "outputs": [
    {
     "name": "stdout",
     "output_type": "stream",
     "text": [
      "+----+----------+--------------------+\n",
      "|Make|count_make|      make_frequency|\n",
      "+----+----------+--------------------+\n",
      "|TOYT|   2150768|  0.1644604214005434|\n",
      "|HOND|   1479996| 0.11316923342318587|\n",
      "|FORD|   1116235|  0.0853539193823023|\n",
      "|NISS|    945133| 0.07227045011807864|\n",
      "|CHEV|    892676|  0.0682592781435057|\n",
      "| BMW|    603092| 0.04611597553213388|\n",
      "|MERZ|    543298| 0.04154377321313709|\n",
      "|VOLK|    432030| 0.03303556490410717|\n",
      "|HYUN|    404917|0.030962344823915845|\n",
      "|DODG|    391686|0.029950624435872788|\n",
      "|LEXS|    368420|0.028171568691922232|\n",
      "| KIA|    328155| 0.02509266903017681|\n",
      "|JEEP|    316300|0.024186165727308515|\n",
      "|AUDI|    255395|0.019529009787941694|\n",
      "|MAZD|    242344| 0.01853105326278487|\n",
      "|OTHR|    205546| 0.01571726089340928|\n",
      "| GMC|    184889|0.014137704695404185|\n",
      "|INFI|    174315|0.013329154216742913|\n",
      "|CHRY|    159948| 0.01223056856070674|\n",
      "|SUBA|    154640|0.011824687537372711|\n",
      "+----+----------+--------------------+\n",
      "only showing top 20 rows\n",
      "\n"
     ]
    },
    {
     "name": "stderr",
     "output_type": "stream",
     "text": [
      "                                                                                \r"
     ]
    }
   ],
   "source": [
    "# B7\n",
    "# Rename a column\n",
    "make_df = make_df.withColumnRenamed('count(Make)','count_make')\n",
    "# Add frequency\n",
    "make_df = make_df.withColumn('make_frequency', make_df.count_make/row_num)\n",
    "\n",
    "make_df.show(20)"
   ]
  },
  {
   "cell_type": "code",
   "execution_count": 15,
   "id": "02038ac4-1d6c-4dd3-87b0-44ab2b2bcfa2",
   "metadata": {},
   "outputs": [
    {
     "data": {
      "text/plain": [
       "{'AL': 'Aluminum',\n",
       " 'AM': 'Amber',\n",
       " 'BG': 'Beige',\n",
       " 'BK': 'Black',\n",
       " 'BL': 'Blue',\n",
       " 'BN': 'Brown',\n",
       " 'BR': 'Brown',\n",
       " 'BZ': 'Bronze',\n",
       " 'CH': 'Charcoal',\n",
       " 'DK': 'Dark',\n",
       " 'GD': 'Gold',\n",
       " 'GO': 'Gold',\n",
       " 'GN': 'Green',\n",
       " 'GY': 'Gray',\n",
       " 'GT': 'Granite',\n",
       " 'IV': 'Ivory',\n",
       " 'LT': 'Light',\n",
       " 'OL': 'Olive',\n",
       " 'OR': 'Orange',\n",
       " 'MR': 'Maroon',\n",
       " 'PK': 'Pink',\n",
       " 'RD': 'Red',\n",
       " 'RE': 'Red',\n",
       " 'SI': 'Silver',\n",
       " 'SL': 'Silver',\n",
       " 'SM': 'Smoke',\n",
       " 'TN': 'Tan',\n",
       " 'VT': 'Violet',\n",
       " 'WT': 'White',\n",
       " 'WH': 'White',\n",
       " 'YL': 'Yellow',\n",
       " 'YE': 'Yellow',\n",
       " 'UN': 'Unknown'}"
      ]
     },
     "execution_count": 15,
     "metadata": {},
     "output_type": "execute_result"
    }
   ],
   "source": [
    "# B8\n",
    "from pyspark.sql.types import StringType\n",
    "\n",
    "COLORS = {\n",
    "'AL':'Aluminum', 'AM':'Amber', 'BG':'Beige', 'BK':'Black', \n",
    "'BL':'Blue', 'BN':'Brown', 'BR':'Brown', 'BZ':'Bronze', \n",
    "'CH':'Charcoal', 'DK':'Dark', 'GD':'Gold', 'GO':'Gold', \n",
    "'GN':'Green', 'GY':'Gray', 'GT':'Granite', 'IV':'Ivory', \n",
    "'LT':'Light', 'OL':'Olive', 'OR':'Orange', 'MR':'Maroon', \n",
    "'PK':'Pink', 'RD':'Red', 'RE':'Red', 'SI':'Silver', 'SL':'Silver', \n",
    "'SM':'Smoke', 'TN':'Tan', 'VT':'Violet', 'WT':'White', 'WH':'White', \n",
    "'YL':'Yellow', 'YE':'Yellow', 'UN':'Unknown'\n",
    "}\n",
    "\n",
    "COLORS"
   ]
  },
  {
   "cell_type": "code",
   "execution_count": 17,
   "id": "20268803-9251-49c7-813f-715c6f97af9b",
   "metadata": {},
   "outputs": [
    {
     "name": "stdout",
     "output_type": "stream",
     "text": [
      "+-------------+--------------------+----------+--------+-----------+--------------+-----------------+----+----------+-----+------------------+-----+------+--------------+---------------------+-----------+------------------+-----------------+----------------------+----------+\n",
      "|Ticket number|          Issue Date|Issue time|Meter Id|Marked Time|RP State Plate|Plate Expiry Date|Make|Body Style|Color|          Location|Route|Agency|Violation code|Violation Description|Fine amount|Agency Description|Color Description|Body Style Description|color_long|\n",
      "+-------------+--------------------+----------+--------+-----------+--------------+-----------------+----+----------+-----+------------------+-----+------+--------------+---------------------+-----------+------------------+-----------------+----------------------+----------+\n",
      "|   1103341116|2015-12-21T00:00:...|      1251|    null|       null|            CA|           200304|HOND|        PA|   GY|   13147 WELBY WAY|01521|     1|        4000A1|   NO EVIDENCE OF REG|         50|              null|             null|                  null|      Gray|\n",
      "|   1103700150|2015-12-21T00:00:...|      1435|    null|       null|            CA|           201512| GMC|        VN|   WH|     525 S MAIN ST| 1C51|     1|        4000A1|   NO EVIDENCE OF REG|         50|              null|             null|                  null|     White|\n",
      "|   1104803000|2015-12-21T00:00:...|      2055|    null|       null|            CA|           201503|NISS|        PA|   BK|     200 WORLD WAY|  2R2|     2|          8939|           WHITE CURB|         58|              null|             null|                  null|     Black|\n",
      "|   1104820732|2015-12-26T00:00:...|      1515|    null|       null|            CA|             null|ACUR|        PA|   WH|     100 WORLD WAY| 2F11|     2|           000|               17104h|       null|              null|             null|                  null|     White|\n",
      "|   1105461453|2015-09-15T00:00:...|       115|    null|       null|            CA|           200316|CHEV|        PA|   BK|GEORGIA ST/OLYMPIC|1FB70|     1|         8069A| NO STOPPING/STANDING|         93|              null|             null|                  null|     Black|\n",
      "|   1106226590|2015-09-15T00:00:...|        19|    null|       null|            CA|           201507|CHEV|        VN|   GY|SAN PEDRO S/O BOYD|1A35W|     1|        4000A1|   NO EVIDENCE OF REG|         50|              null|             null|                  null|      Gray|\n",
      "|   1106500452|2015-12-17T00:00:...|      1710|    null|       null|            CA|           201605|MAZD|        PA|   BL|   SUNSET/ALVARADO|00217|     1|          8070| PARK IN GRID LOCK ZN|        163|              null|             null|                  null|      Blue|\n",
      "|   1106500463|2015-12-17T00:00:...|      1710|    null|       null|            CA|           201602|TOYO|        PA|   BK|   SUNSET/ALVARADO|00217|     1|          8070| PARK IN GRID LOCK ZN|        163|              null|             null|                  null|     Black|\n",
      "|   1106506402|2015-12-22T00:00:...|       945|    null|       null|            CA|           201605|CHEV|        PA|   BR|    721 S WESTLAKE| 2A75|     1|        8069AA|     NO STOP/STAND AM|         93|              null|             null|                  null|     Brown|\n",
      "|   1106506413|2015-12-22T00:00:...|      1100|    null|       null|            CA|           201701|NISS|        PA|   SI|   1159 HUNTLEY DR| 2A75|     1|        8069AA|     NO STOP/STAND AM|         93|              null|             null|                  null|    Silver|\n",
      "+-------------+--------------------+----------+--------+-----------+--------------+-----------------+----+----------+-----+------------------+-----+------+--------------+---------------------+-----------+------------------+-----------------+----------------------+----------+\n",
      "only showing top 10 rows\n",
      "\n"
     ]
    },
    {
     "name": "stderr",
     "output_type": "stream",
     "text": [
      "                                                                                \r"
     ]
    }
   ],
   "source": [
    "# B8\n",
    "\n",
    "def color_to_long(COLORS):\n",
    "    def color_to_long_(col):\n",
    "        if COLORS.get(col) is not None:\n",
    "            return COLORS.get(col)\n",
    "        else:\n",
    "            return col\n",
    "    return udf(color_to_long_, StringType())\n",
    "\n",
    "\n",
    "# User-defined function. Input type is a string.\n",
    "# udf_color_to_color_long = udf(color_to_color_long, StringType())\n",
    "\n",
    "\n",
    "color_long_df = data_frame_2\\\n",
    "    .withColumn(\"color_long\", color_to_long(COLORS)(\"color\"))\n",
    "\n",
    "color_long_df.show(10)"
   ]
  },
  {
   "cell_type": "code",
   "execution_count": 19,
   "id": "76642f6c-bc21-4933-88b1-1f00cd0b4601",
   "metadata": {},
   "outputs": [
    {
     "name": "stderr",
     "output_type": "stream",
     "text": [
      "                                                                                \r"
     ]
    },
    {
     "data": {
      "text/plain": [
       "[Row(color_long='Gray', count(color_long)=489697)]"
      ]
     },
     "execution_count": 19,
     "metadata": {},
     "output_type": "execute_result"
    }
   ],
   "source": [
    "# B9 The most frequent colour value for Toyotas (TOYT)\n",
    "\n",
    "color_long_df.filter(color_long_df[\"Make\"] == \"TOYT\")\\\n",
    "        .groupBy(\"color_long\")\\\n",
    "        .agg({\"color_long\": 'count'})\\\n",
    "        .orderBy('count(color_long)', ascending=False)\\\n",
    "        .take(1)"
   ]
  },
  {
   "cell_type": "code",
   "execution_count": 20,
   "id": "7e319adb-7369-48ef-8c2a-c1018179f184",
   "metadata": {},
   "outputs": [],
   "source": [
    "# release the cores for another application!\n",
    "spark_context.stop()"
   ]
  },
  {
   "cell_type": "code",
   "execution_count": null,
   "id": "9ed0671d-549f-4191-905e-ffa5f0786b79",
   "metadata": {},
   "outputs": [],
   "source": []
  }
 ],
 "metadata": {
  "kernelspec": {
   "display_name": "Python 3 (ipykernel)",
   "language": "python",
   "name": "python3"
  },
  "language_info": {
   "codemirror_mode": {
    "name": "ipython",
    "version": 3
   },
   "file_extension": ".py",
   "mimetype": "text/x-python",
   "name": "python",
   "nbconvert_exporter": "python",
   "pygments_lexer": "ipython3",
   "version": "3.8.10"
  }
 },
 "nbformat": 4,
 "nbformat_minor": 5
}
